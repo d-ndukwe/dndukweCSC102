{
 "cells": [
  {
   "cell_type": "code",
   "execution_count": null,
   "id": "43d98cb7",
   "metadata": {},
   "outputs": [],
   "source": [
    "from math import sqrt \n",
    "print((a*x**3)+(b*x**2)+(c*x)+d)=0\n",
    "a = int(input(\"Enter a:\"))\n",
    "b = int(input(\"Enter b:\"))\n",
    "c = int(input(\"Enter c:\"))                                        \n",
    "d = int(input(\"Enter d:\"))\n",
    "\n",
    "DI = (b**2) - (4*a*c)\n",
    "if DI > 0:\n",
    "    x1 = (math.sqrt(DI) - b)/ 2*a\n",
    "    x2 = (-(math.sqrt(DI)) - b)/ 2*a\n",
    "    x3 = (math.sqrt(DI) - b)/ 2*a\n",
    "\n",
    "    print(\"The roots are:\")\n",
    "    print(\"x1 = {x1}, x2 = {x2}, x3 = {x3}\")\n",
    "if DI == 0:\n",
    "    c1 = 1j\n",
    "    p = -b/ 2*a\n",
    "    z = math.sqrt(DI)\n",
    "    q = -z/ 2*a\n",
    "\n",
    "    x1 = p + (c1*q)\n",
    "    x2 = p - (c1*q)\n",
    "\n",
    "    print(\"x1 = {x1}, x2 = {x2}\")\n",
    "    print(\"END OF CALCULATION\")\n",
    " \n"
   ]
  },
  {
   "cell_type": "code",
   "execution_count": null,
   "id": "07258c33",
   "metadata": {},
   "outputs": [],
   "source": [
    "import math\n",
    "print(\"QUARTIC EQUATION\")\n",
    "print(\"ax**4 + bx**3 + cx**2 + dx + e = 0\")\n",
    "a = int(input(\"Enter a:\"))\n",
    "b = int(input(\"Enter b:\"))\n",
    "c = int(input(\"Enter c:\"))\n",
    "d = int(input(\"Enter d:\"))\n",
    "e = int(input(\"Enter e:\"))\n",
    "\n",
    "r = ((-3*a**2) + b)/ (9*a**2)\n",
    "q = ((9*a*b) - (27*a**2*d) - (2*b**3))/ (54*a**3)\n",
    "d1 = q**2 + (4*r**3)\n",
    "\n"
   ]
  },
  {
   "cell_type": "code",
   "execution_count": null,
   "id": "be0e5304",
   "metadata": {},
   "outputs": [],
   "source": []
  }
 ],
 "metadata": {
  "kernelspec": {
   "display_name": "Python 3 (ipykernel)",
   "language": "python",
   "name": "python3"
  },
  "language_info": {
   "codemirror_mode": {
    "name": "ipython",
    "version": 3
   },
   "file_extension": ".py",
   "mimetype": "text/x-python",
   "name": "python",
   "nbconvert_exporter": "python",
   "pygments_lexer": "ipython3",
   "version": "3.10.9"
  }
 },
 "nbformat": 4,
 "nbformat_minor": 5
}
